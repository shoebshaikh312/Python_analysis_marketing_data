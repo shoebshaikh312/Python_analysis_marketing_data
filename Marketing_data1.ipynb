{
 "cells": [
  {
   "cell_type": "code",
   "execution_count": 1,
   "id": "decd0ae9",
   "metadata": {},
   "outputs": [],
   "source": [
    "import pandas as pd\n",
    "import matplotlib.pyplot as plt"
   ]
  },
  {
   "cell_type": "code",
   "execution_count": 2,
   "id": "3146ff69",
   "metadata": {},
   "outputs": [],
   "source": [
    "marketing_data_df = pd.read_csv('C:\\SHOEB\\Data analysis practice\\Datasets\\Marketing data\\marketing_data.csv')"
   ]
  },
  {
   "cell_type": "markdown",
   "id": "ddabae73",
   "metadata": {},
   "source": [
    "C:\\Users\\Shoeb\n",
    "\n",
    "<H1>Used the below code to check the basic information of the data. </H1>"
   ]
  },
  {
   "cell_type": "code",
   "execution_count": 5,
   "id": "7f433e8a",
   "metadata": {},
   "outputs": [
    {
     "name": "stdout",
     "output_type": "stream",
     "text": [
      "<class 'pandas.core.frame.DataFrame'>\n",
      "RangeIndex: 2240 entries, 0 to 2239\n",
      "Data columns (total 22 columns):\n",
      " #   Column               Non-Null Count  Dtype \n",
      "---  ------               --------------  ----- \n",
      " 0   ID                   2240 non-null   int64 \n",
      " 1   Year_Birth           2240 non-null   int64 \n",
      " 2   Education            2240 non-null   object\n",
      " 3   Marital_Status       2240 non-null   object\n",
      " 4   Income               2216 non-null   object\n",
      " 5   Kidhome              2240 non-null   int64 \n",
      " 6   Teenhome             2240 non-null   int64 \n",
      " 7   Last_purchase        2240 non-null   object\n",
      " 8   MntWines             2240 non-null   int64 \n",
      " 9   MntFruits            2240 non-null   int64 \n",
      " 10  MntMeatProducts      2240 non-null   int64 \n",
      " 11  MntFishProducts      2240 non-null   int64 \n",
      " 12  MntSweetProducts     2240 non-null   int64 \n",
      " 13  MntGoldProds         2240 non-null   int64 \n",
      " 14  NumDealsPurchases    2240 non-null   int64 \n",
      " 15  NumWebPurchases      2240 non-null   int64 \n",
      " 16  NumCatalogPurchases  2240 non-null   int64 \n",
      " 17  NumStorePurchases    2240 non-null   int64 \n",
      " 18  NumWebVisitsMonth    2240 non-null   int64 \n",
      " 19  Response             2240 non-null   int64 \n",
      " 20  Complain             2240 non-null   int64 \n",
      " 21  Country              2240 non-null   object\n",
      "dtypes: int64(17), object(5)\n",
      "memory usage: 385.1+ KB\n"
     ]
    }
   ],
   "source": [
    "marketing_data_df.info()"
   ]
  },
  {
   "cell_type": "markdown",
   "id": "21325585",
   "metadata": {},
   "source": [
    "<H1><U>Utilized for eliminating unnecessary columns.</U><H1>"
   ]
  },
  {
   "cell_type": "code",
   "execution_count": 4,
   "id": "1e78f26c",
   "metadata": {},
   "outputs": [],
   "source": [
    "marketing_data_df.drop(columns=['AcceptedCmp3', 'Recency', 'AcceptedCmp4', 'AcceptedCmp1', 'AcceptedCmp5', 'AcceptedCmp2'], inplace=True)\n"
   ]
  },
  {
   "cell_type": "markdown",
   "id": "87329200",
   "metadata": {},
   "source": [
    "<H1>Determining the average number of items sold to pinpoint the top-selling product.</H1>"
   ]
  },
  {
   "cell_type": "code",
   "execution_count": 6,
   "id": "ea18bf23",
   "metadata": {},
   "outputs": [
    {
     "data": {
      "text/plain": [
       "MntWines            303.935714\n",
       "MntMeatProducts     166.950000\n",
       "MntGoldProds         44.021875\n",
       "MntFishProducts      37.525446\n",
       "MntSweetProducts     27.062946\n",
       "MntFruits            26.302232\n",
       "Name: mean, dtype: float64"
      ]
     },
     "execution_count": 6,
     "metadata": {},
     "output_type": "execute_result"
    }
   ],
   "source": [
    "Finding_highest_purchase_df = marketing_data_df[['MntWines', 'MntFruits', 'MntMeatProducts', 'MntFishProducts', \n",
    "                                              'MntSweetProducts', 'MntGoldProds']].describe().loc['mean']\n",
    "\n",
    "Finding_highest_purchase_df.sort_values(ascending=False)"
   ]
  },
  {
   "cell_type": "markdown",
   "id": "d6a06777",
   "metadata": {},
   "source": [
    "<H3>\n",
    "    1) The top-selling item is MntWines (Wines product). To boost profit, we can focus on MntWines (Wines product) and MntMeatProducts (Meat product), which is the second best-seller.<br><br>\n",
    "    2) For now, I'll concentrate on MntMeatProducts to analyze the factors driving its sales. Additionally, I'll examine the factors affecting the least sold item, 'MntFruits', to help improve its sales.</H3>"
   ]
  },
  {
   "cell_type": "code",
   "execution_count": 12,
   "id": "08285025",
   "metadata": {},
   "outputs": [
    {
     "data": {
      "text/plain": [
       "Text(0.5, 1.0, 'Meat product purchased based on qualification of customers')"
      ]
     },
     "execution_count": 12,
     "metadata": {},
     "output_type": "execute_result"
    },
    {
     "data": {
      "image/png": "[encoded data removed]",
      "text/plain": [
       "<Figure size 640x480 with 1 Axes>"
      ]
     },
     "metadata": {},
     "output_type": "display_data"
    }
   ],
   "source": [
    "Education_count_df=marketing_data_df.groupby('Education')[['MntMeatProducts']].count()\n",
    "Education_count_df_sorted=Education_count_df.sort_values(by='MntMeatProducts')\n",
    "plt.bar(Education_count_df_sorted.index, Education_count_df_sorted.MntMeatProducts)\n",
    "plt.xlabel('Qualification')\n",
    "plt.ylabel('Meat product count')\n",
    "plt.title('Meat product purchased based on qualification of customers')\n"
   ]
  },
  {
   "cell_type": "markdown",
   "id": "9e021dd5",
   "metadata": {},
   "source": [
    "<H4>1)The graph shows that MntMeatProducts are predominantly purchased by graduates, indicating that a marketing campaign aimed at this group could be effective. \n",
    "<br><br>2)Sales to graduate customers are more than double those of any other category.</H4>"
   ]
  },
  {
   "cell_type": "markdown",
   "id": "717e008f",
   "metadata": {},
   "source": [
    "<H3>We now have insights into which customers buy more meat products. There are two types of campaigns we can run: online and offline. \n",
    "   <br><br>Online campaigns can target customers with a higher number of web visits, while offline campaigns can focus on customers with more in-store visits.</H3>"
   ]
  },
  {
   "cell_type": "code",
   "execution_count": 9,
   "id": "ec1ec669",
   "metadata": {},
   "outputs": [
    {
     "data": {
      "text/plain": [
       "NumWebVisitsMonth    5.316518\n",
       "NumWebPurchases      4.084821\n",
       "NumStorePurchases    5.790179\n",
       "Name: mean, dtype: float64"
      ]
     },
     "execution_count": 9,
     "metadata": {},
     "output_type": "execute_result"
    }
   ],
   "source": [
    "marketing_data_df[['NumWebVisitsMonth','NumWebPurchases','NumStorePurchases']].describe().loc['mean']"
   ]
  },
  {
   "cell_type": "markdown",
   "id": "517e03fa",
   "metadata": {},
   "source": [
    "<H3>The data above indicates that the number of store visits is higher than both website visits and online purchases. <br><br>We can analyze the data to boost website and store purchases. For increasing web purchases, we can run online campaigns targeting customers with frequent website visits or purchases.<H3>"
   ]
  },
  {
   "cell_type": "code",
   "execution_count": 25,
   "id": "68bd4332",
   "metadata": {},
   "outputs": [
    {
     "data": {
      "text/html": [
       "<div>\n",
       "<style scoped>\n",
       "    .dataframe tbody tr th:only-of-type {\n",
       "        vertical-align: middle;\n",
       "    }\n",
       "\n",
       "    .dataframe tbody tr th {\n",
       "        vertical-align: top;\n",
       "    }\n",
       "\n",
       "    .dataframe thead th {\n",
       "        text-align: right;\n",
       "    }\n",
       "</style>\n",
       "<table border=\"1\" class=\"dataframe\">\n",
       "  <thead>\n",
       "    <tr style=\"text-align: right;\">\n",
       "      <th></th>\n",
       "      <th>NumWebPurchases</th>\n",
       "    </tr>\n",
       "    <tr>\n",
       "      <th>Education</th>\n",
       "      <th></th>\n",
       "    </tr>\n",
       "  </thead>\n",
       "  <tbody>\n",
       "    <tr>\n",
       "      <th>2n Cycle</th>\n",
       "      <td>757</td>\n",
       "    </tr>\n",
       "    <tr>\n",
       "      <th>Basic</th>\n",
       "      <td>102</td>\n",
       "    </tr>\n",
       "    <tr>\n",
       "      <th>Graduation</th>\n",
       "      <td>4649</td>\n",
       "    </tr>\n",
       "    <tr>\n",
       "      <th>Master</th>\n",
       "      <td>1492</td>\n",
       "    </tr>\n",
       "    <tr>\n",
       "      <th>PhD</th>\n",
       "      <td>2150</td>\n",
       "    </tr>\n",
       "  </tbody>\n",
       "</table>\n",
       "</div>"
      ],
      "text/plain": [
       "            NumWebPurchases\n",
       "Education                  \n",
       "2n Cycle                757\n",
       "Basic                   102\n",
       "Graduation             4649\n",
       "Master                 1492\n",
       "PhD                    2150"
      ]
     },
     "execution_count": 25,
     "metadata": {},
     "output_type": "execute_result"
    }
   ],
   "source": [
    "marketing_data_df.groupby('Education')[['NumWebPurchases']].sum()"
   ]
  },
  {
   "cell_type": "markdown",
   "id": "bceaaeb0",
   "metadata": {},
   "source": [
    "<H3>The data above confirms that web purchases are higher among graduate customers, followed by PhD holders. <br>Therefore, we can focus on running more online campaigns targeting graduate customers.</H3>"
   ]
  },
  {
   "cell_type": "code",
   "execution_count": 24,
   "id": "5f5d5211",
   "metadata": {},
   "outputs": [
    {
     "data": {
      "text/html": [
       "<div>\n",
       "<style scoped>\n",
       "    .dataframe tbody tr th:only-of-type {\n",
       "        vertical-align: middle;\n",
       "    }\n",
       "\n",
       "    .dataframe tbody tr th {\n",
       "        vertical-align: top;\n",
       "    }\n",
       "\n",
       "    .dataframe thead th {\n",
       "        text-align: right;\n",
       "    }\n",
       "</style>\n",
       "<table border=\"1\" class=\"dataframe\">\n",
       "  <thead>\n",
       "    <tr style=\"text-align: right;\">\n",
       "      <th></th>\n",
       "      <th>NumStorePurchases</th>\n",
       "    </tr>\n",
       "    <tr>\n",
       "      <th>Education</th>\n",
       "      <th></th>\n",
       "    </tr>\n",
       "  </thead>\n",
       "  <tbody>\n",
       "    <tr>\n",
       "      <th>2n Cycle</th>\n",
       "      <td>1118</td>\n",
       "    </tr>\n",
       "    <tr>\n",
       "      <th>Basic</th>\n",
       "      <td>154</td>\n",
       "    </tr>\n",
       "    <tr>\n",
       "      <th>Graduation</th>\n",
       "      <td>6570</td>\n",
       "    </tr>\n",
       "    <tr>\n",
       "      <th>Master</th>\n",
       "      <td>2182</td>\n",
       "    </tr>\n",
       "    <tr>\n",
       "      <th>PhD</th>\n",
       "      <td>2946</td>\n",
       "    </tr>\n",
       "  </tbody>\n",
       "</table>\n",
       "</div>"
      ],
      "text/plain": [
       "            NumStorePurchases\n",
       "Education                    \n",
       "2n Cycle                 1118\n",
       "Basic                     154\n",
       "Graduation               6570\n",
       "Master                   2182\n",
       "PhD                      2946"
      ]
     },
     "execution_count": 24,
     "metadata": {},
     "output_type": "execute_result"
    }
   ],
   "source": [
    "marketing_data_df.groupby('Education')[['NumStorePurchases']].sum()"
   ]
  },
  {
   "cell_type": "markdown",
   "id": "c2870be1",
   "metadata": {},
   "source": [
    "<H3>The data above confirms that store purchases are higher among graduate customers, followed by PhD holders. <br>Therefore, we can focus on conducting more offline campaigns targeting graduate customers.</H3>"
   ]
  },
  {
   "cell_type": "markdown",
   "id": "5e8d0a88",
   "metadata": {},
   "source": [
    "<H2><u>From this section we can start analysing data based on marital status.</u></H2>"
   ]
  },
  {
   "cell_type": "code",
   "execution_count": 10,
   "id": "a81c7939",
   "metadata": {},
   "outputs": [
    {
     "data": {
      "image/png": "[encoded data removed]",
      "text/plain": [
       "<Figure size 640x480 with 1 Axes>"
      ]
     },
     "metadata": {},
     "output_type": "display_data"
    }
   ],
   "source": [
    "Marital_Status_grouped_df=marketing_data_df.groupby('Marital_Status')[['MntMeatProducts']].count()\n",
    "Marital_Status_sorted_df=Marital_Status_grouped_df.sort_values(by='MntMeatProducts', ascending=False)\n",
    "plt.bar(Marital_Status_sorted_df.index, Marital_Status_sorted_df.MntMeatProducts)\n",
    "plt.xlabel(\"Marital Status\")\n",
    "plt.ylabel(\"Meat Products sale\")\n",
    "plt.title(\"Meat product sales based on Marital Status\");"
   ]
  },
  {
   "cell_type": "markdown",
   "id": "02931545",
   "metadata": {},
   "source": [
    "<H3>The above graph indicates that Meat Products are primarily purchased by Married customers, \n",
    "suggesting a marketing campaign targeted at this group.</H3>"
   ]
  },
  {
   "cell_type": "code",
   "execution_count": 32,
   "id": "7a12d8bc",
   "metadata": {},
   "outputs": [
    {
     "data": {
      "text/html": [
       "<div>\n",
       "<style scoped>\n",
       "    .dataframe tbody tr th:only-of-type {\n",
       "        vertical-align: middle;\n",
       "    }\n",
       "\n",
       "    .dataframe tbody tr th {\n",
       "        vertical-align: top;\n",
       "    }\n",
       "\n",
       "    .dataframe thead th {\n",
       "        text-align: right;\n",
       "    }\n",
       "</style>\n",
       "<table border=\"1\" class=\"dataframe\">\n",
       "  <thead>\n",
       "    <tr style=\"text-align: right;\">\n",
       "      <th></th>\n",
       "      <th>MntMeatProducts</th>\n",
       "      <th>Contribution %</th>\n",
       "    </tr>\n",
       "    <tr>\n",
       "      <th>Marital_Status</th>\n",
       "      <th></th>\n",
       "      <th></th>\n",
       "    </tr>\n",
       "  </thead>\n",
       "  <tbody>\n",
       "    <tr>\n",
       "      <th>Married</th>\n",
       "      <td>864</td>\n",
       "      <td>38.57</td>\n",
       "    </tr>\n",
       "    <tr>\n",
       "      <th>Together</th>\n",
       "      <td>580</td>\n",
       "      <td>25.89</td>\n",
       "    </tr>\n",
       "    <tr>\n",
       "      <th>Single</th>\n",
       "      <td>480</td>\n",
       "      <td>21.43</td>\n",
       "    </tr>\n",
       "    <tr>\n",
       "      <th>Divorced</th>\n",
       "      <td>232</td>\n",
       "      <td>10.36</td>\n",
       "    </tr>\n",
       "    <tr>\n",
       "      <th>Widow</th>\n",
       "      <td>77</td>\n",
       "      <td>3.44</td>\n",
       "    </tr>\n",
       "    <tr>\n",
       "      <th>Alone</th>\n",
       "      <td>3</td>\n",
       "      <td>0.13</td>\n",
       "    </tr>\n",
       "    <tr>\n",
       "      <th>Absurd</th>\n",
       "      <td>2</td>\n",
       "      <td>0.09</td>\n",
       "    </tr>\n",
       "    <tr>\n",
       "      <th>YOLO</th>\n",
       "      <td>2</td>\n",
       "      <td>0.09</td>\n",
       "    </tr>\n",
       "  </tbody>\n",
       "</table>\n",
       "</div>"
      ],
      "text/plain": [
       "                MntMeatProducts  Contribution %\n",
       "Marital_Status                                 \n",
       "Married                     864           38.57\n",
       "Together                    580           25.89\n",
       "Single                      480           21.43\n",
       "Divorced                    232           10.36\n",
       "Widow                        77            3.44\n",
       "Alone                         3            0.13\n",
       "Absurd                        2            0.09\n",
       "YOLO                          2            0.09"
      ]
     },
     "execution_count": 32,
     "metadata": {},
     "output_type": "execute_result"
    }
   ],
   "source": [
    "Marital_Status_sorted_df['Contribution %']=(Marital_Status_sorted_df.MntMeatProducts/Marital_Status_sorted_df.MntMeatProducts.sum())*100\n",
    "Marital_Status_sorted_df['Contribution %']=Marital_Status_sorted_df['Contribution %'].apply(lambda x: round(x,2))\n",
    "Marital_Status_sorted_df"
   ]
  },
  {
   "cell_type": "markdown",
   "id": "edb1077d",
   "metadata": {},
   "source": [
    "Now we know which customers purchase more meat products.\n",
    "But there are 2 types of campaign which we can do e.g, Online and offline campaigns.\n",
    "Online campaigns can be done for the customers who have more web visits and offline campaigns can be done for the customers \n",
    "who have more store visits."
   ]
  },
  {
   "cell_type": "code",
   "execution_count": 37,
   "id": "d4761264",
   "metadata": {},
   "outputs": [
    {
     "data": {
      "text/html": [
       "<div>\n",
       "<style scoped>\n",
       "    .dataframe tbody tr th:only-of-type {\n",
       "        vertical-align: middle;\n",
       "    }\n",
       "\n",
       "    .dataframe tbody tr th {\n",
       "        vertical-align: top;\n",
       "    }\n",
       "\n",
       "    .dataframe thead th {\n",
       "        text-align: right;\n",
       "    }\n",
       "</style>\n",
       "<table border=\"1\" class=\"dataframe\">\n",
       "  <thead>\n",
       "    <tr style=\"text-align: right;\">\n",
       "      <th></th>\n",
       "      <th>NumWebPurchases</th>\n",
       "      <th>Contribution %</th>\n",
       "    </tr>\n",
       "    <tr>\n",
       "      <th>Marital_Status</th>\n",
       "      <th></th>\n",
       "      <th></th>\n",
       "    </tr>\n",
       "  </thead>\n",
       "  <tbody>\n",
       "    <tr>\n",
       "      <th>Married</th>\n",
       "      <td>3532</td>\n",
       "      <td>38.60</td>\n",
       "    </tr>\n",
       "    <tr>\n",
       "      <th>Together</th>\n",
       "      <td>2367</td>\n",
       "      <td>25.87</td>\n",
       "    </tr>\n",
       "    <tr>\n",
       "      <th>Single</th>\n",
       "      <td>1859</td>\n",
       "      <td>20.32</td>\n",
       "    </tr>\n",
       "    <tr>\n",
       "      <th>Divorced</th>\n",
       "      <td>1000</td>\n",
       "      <td>10.93</td>\n",
       "    </tr>\n",
       "    <tr>\n",
       "      <th>Widow</th>\n",
       "      <td>356</td>\n",
       "      <td>3.89</td>\n",
       "    </tr>\n",
       "    <tr>\n",
       "      <th>Alone</th>\n",
       "      <td>15</td>\n",
       "      <td>0.16</td>\n",
       "    </tr>\n",
       "    <tr>\n",
       "      <th>YOLO</th>\n",
       "      <td>14</td>\n",
       "      <td>0.15</td>\n",
       "    </tr>\n",
       "    <tr>\n",
       "      <th>Absurd</th>\n",
       "      <td>7</td>\n",
       "      <td>0.08</td>\n",
       "    </tr>\n",
       "  </tbody>\n",
       "</table>\n",
       "</div>"
      ],
      "text/plain": [
       "                NumWebPurchases  Contribution %\n",
       "Marital_Status                                 \n",
       "Married                    3532           38.60\n",
       "Together                   2367           25.87\n",
       "Single                     1859           20.32\n",
       "Divorced                   1000           10.93\n",
       "Widow                       356            3.89\n",
       "Alone                        15            0.16\n",
       "YOLO                         14            0.15\n",
       "Absurd                        7            0.08"
      ]
     },
     "execution_count": 37,
     "metadata": {},
     "output_type": "execute_result"
    }
   ],
   "source": [
    "marital_status_web_df=marketing_data_df.groupby('Marital_Status')[['NumWebPurchases']].sum()\n",
    "marital_status_df_sorted=marital_status_web_df.sort_values(by='NumWebPurchases', ascending=False)\n",
    "marital_status_df_sorted['Contribution %']=(marital_status_df_sorted.NumWebPurchases/marital_status_df_sorted.NumWebPurchases.sum())*100\n",
    "marital_status_df_sorted['Contribution %']=marital_status_df_sorted['Contribution %'].apply(lambda x:round(x,2))\n",
    "marital_status_df_sorted"
   ]
  },
  {
   "cell_type": "markdown",
   "id": "22023e74",
   "metadata": {},
   "source": [
    "<H3>1) The data below indicates that web purchases are higher among married customers, followed by those classified as \"together.\" <br>Therefore, we should focus on running more online campaigns for married customers.<br><br> 2) Additionally, we can also target customers listed as \"together,\" as married customers contribute 38.60% and together customers contribute 25.87%. Given the significant contributions from both groups, we can implement more online campaigns for married, together, and single customers.</H3>"
   ]
  },
  {
   "cell_type": "code",
   "execution_count": 33,
   "id": "52145d23",
   "metadata": {},
   "outputs": [
    {
     "data": {
      "text/html": [
       "<div>\n",
       "<style scoped>\n",
       "    .dataframe tbody tr th:only-of-type {\n",
       "        vertical-align: middle;\n",
       "    }\n",
       "\n",
       "    .dataframe tbody tr th {\n",
       "        vertical-align: top;\n",
       "    }\n",
       "\n",
       "    .dataframe thead th {\n",
       "        text-align: right;\n",
       "    }\n",
       "</style>\n",
       "<table border=\"1\" class=\"dataframe\">\n",
       "  <thead>\n",
       "    <tr style=\"text-align: right;\">\n",
       "      <th></th>\n",
       "      <th>NumWebPurchases</th>\n",
       "    </tr>\n",
       "    <tr>\n",
       "      <th>Customer_ID</th>\n",
       "      <th></th>\n",
       "    </tr>\n",
       "  </thead>\n",
       "  <tbody>\n",
       "    <tr>\n",
       "      <th>210</th>\n",
       "      <td>27</td>\n",
       "    </tr>\n",
       "    <tr>\n",
       "      <th>449</th>\n",
       "      <td>27</td>\n",
       "    </tr>\n",
       "    <tr>\n",
       "      <th>14</th>\n",
       "      <td>25</td>\n",
       "    </tr>\n",
       "    <tr>\n",
       "      <th>2063</th>\n",
       "      <td>23</td>\n",
       "    </tr>\n",
       "    <tr>\n",
       "      <th>661</th>\n",
       "      <td>11</td>\n",
       "    </tr>\n",
       "    <tr>\n",
       "      <th>170</th>\n",
       "      <td>11</td>\n",
       "    </tr>\n",
       "    <tr>\n",
       "      <th>2049</th>\n",
       "      <td>11</td>\n",
       "    </tr>\n",
       "    <tr>\n",
       "      <th>2057</th>\n",
       "      <td>11</td>\n",
       "    </tr>\n",
       "    <tr>\n",
       "      <th>2076</th>\n",
       "      <td>11</td>\n",
       "    </tr>\n",
       "    <tr>\n",
       "      <th>131</th>\n",
       "      <td>11</td>\n",
       "    </tr>\n",
       "  </tbody>\n",
       "</table>\n",
       "</div>"
      ],
      "text/plain": [
       "             NumWebPurchases\n",
       "Customer_ID                 \n",
       "210                       27\n",
       "449                       27\n",
       "14                        25\n",
       "2063                      23\n",
       "661                       11\n",
       "170                       11\n",
       "2049                      11\n",
       "2057                      11\n",
       "2076                      11\n",
       "131                       11"
      ]
     },
     "execution_count": 33,
     "metadata": {},
     "output_type": "execute_result"
    }
   ],
   "source": [
    "marketing_new_data=marketing_data_df['NumWebPurchases'].sort_values(ascending=False).head(10)\n",
    "marketing_df_new_data=pd.DataFrame(marketing_new_data)\n",
    "marketing_df_new_data.index.name='Customer_ID'\n",
    "marketing_df_new_data"
   ]
  },
  {
   "cell_type": "markdown",
   "id": "cdd2a1f2",
   "metadata": {},
   "source": [
    "<H3>\n",
    "1) The data above highlights the top 10 customers for online purchases. <br><br> 2)To boost profits, we could offer a discount or coupon to the top 5 or top 10 customers on their next purchase.\n",
    "</H3>"
   ]
  },
  {
   "cell_type": "markdown",
   "id": "e0cbf897",
   "metadata": {},
   "source": [
    "<H2><span style='color:purple;'>We can further analyze which products are purchased by these top 10 customers\n",
    "<br>and then offer discounts or coupons specifically for those items.<br><br> Further analysis will be conducted...</span></H2>"
   ]
  }
 ],
 "metadata": {
  "kernelspec": {
   "display_name": "Python 3 (ipykernel)",
   "language": "python",
   "name": "python3"
  },
  "language_info": {
   "codemirror_mode": {
    "name": "ipython",
    "version": 3
   },
   "file_extension": ".py",
   "mimetype": "text/x-python",
   "name": "python",
   "nbconvert_exporter": "python",
   "pygments_lexer": "ipython3",
   "version": "3.11.4"
  }
 },
 "nbformat": 4,
 "nbformat_minor": 5
}
